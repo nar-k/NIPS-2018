{
 "cells": [
  {
   "cell_type": "code",
   "execution_count": null,
   "metadata": {},
   "outputs": [],
   "source": [
    "import numpy as np\n",
    "import tensorflow as tf\n",
    "import matplotlib.pyplot as plt\n",
    "\n",
    "%matplotlib inline"
   ]
  },
  {
   "cell_type": "code",
   "execution_count": null,
   "metadata": {},
   "outputs": [],
   "source": [
    "# The step size at which the estimate will oscillate depends on\n",
    "# the function to be estimated and the initialization of the weights.\n",
    "# Depending on the initialization,\n",
    "# the estimate may converge to a different solution and not oscillate.\n",
    "tf.set_random_seed(963)\n",
    "np.random.seed(963)"
   ]
  },
  {
   "cell_type": "code",
   "execution_count": null,
   "metadata": {},
   "outputs": [],
   "source": [
    "sess = tf.InteractiveSession()"
   ]
  },
  {
   "cell_type": "code",
   "execution_count": null,
   "metadata": {},
   "outputs": [],
   "source": [
    "def weight_variable(shape):\n",
    "    initial = tf.random_normal(shape, stddev=1.0)\n",
    "    return tf.Variable(initial)\n",
    "\n",
    "def bias_vector(size):\n",
    "    initial = np.random.normal(0, 1.0, size)\n",
    "    return initial"
   ]
  },
  {
   "cell_type": "code",
   "execution_count": null,
   "metadata": {},
   "outputs": [],
   "source": [
    "x_dat = np.arange(0,1,0.001)\n",
    "N = len(x_dat)\n",
    "\n",
    "d = 20  #number of nodes in the hidden layer\n",
    "W = weight_variable([d,1])\n",
    "V = weight_variable([1,d])\n",
    "b = bias_vector([1,d])\n",
    "\n",
    "x  = tf.placeholder(tf.float32, shape=[N,1])\n",
    "y_ = tf.placeholder(tf.float32, shape=[N,1])\n",
    "\n",
    "y = tf.matmul(tf.nn.relu(tf.matmul(x,V)-b),W)"
   ]
  },
  {
   "cell_type": "code",
   "execution_count": null,
   "metadata": {},
   "outputs": [],
   "source": [
    "train_loss = tf.reduce_sum(tf.square(y-y_))"
   ]
  },
  {
   "cell_type": "code",
   "execution_count": null,
   "metadata": {},
   "outputs": [],
   "source": [
    "# generate a function that can be represented by the network\n",
    "sess.run(tf.global_variables_initializer())\n",
    "y_dat = y.eval(feed_dict={x: np.expand_dims(x_dat,1)})"
   ]
  },
  {
   "cell_type": "code",
   "execution_count": null,
   "metadata": {},
   "outputs": [],
   "source": [
    "# re-initialize the network for estimation with the larger step size\n",
    "delta_large = 3e-4\n",
    "train_step = tf.train.GradientDescentOptimizer(delta_large).minimize(train_loss)\n",
    "sess.run(tf.global_variables_initializer())"
   ]
  },
  {
   "cell_type": "code",
   "execution_count": null,
   "metadata": {},
   "outputs": [],
   "source": [
    "for i in range(20001):\n",
    "    train_step.run(feed_dict={x: np.expand_dims(x_dat,1), y_: y_dat})"
   ]
  },
  {
   "cell_type": "code",
   "execution_count": null,
   "metadata": {},
   "outputs": [],
   "source": [
    "# save the estimated function after odd number of iterations of GD\n",
    "z1_dat = sess.run(y, feed_dict={x: np.expand_dims(x_dat,1)})"
   ]
  },
  {
   "cell_type": "code",
   "execution_count": null,
   "metadata": {},
   "outputs": [],
   "source": [
    "# save the estimated function after even number of iterations of GD\n",
    "train_step.run(feed_dict={x: np.expand_dims(x_dat,1), y_: y_dat})\n",
    "z2_dat = sess.run(y, feed_dict={x: np.expand_dims(x_dat,1)})"
   ]
  },
  {
   "cell_type": "code",
   "execution_count": null,
   "metadata": {},
   "outputs": [],
   "source": [
    "plt.rc('text', usetex=True)\n",
    "plt.figure(figsize=(6,5))\n",
    "plt.plot(x_dat, y_dat,color='seagreen', label='$f(x)$', linewidth=1.5)\n",
    "plt.plot(x_dat, z1_dat,'-.', color='maroon', label=r'$\\hat{f}_{\\mathrm{odd}}(x)$', linewidth=2.0)\n",
    "plt.plot(x_dat, z2_dat,'--', color='maroon', label=r'$\\hat f_{\\mathrm{even}}(x)$', linewidth=1.5)\n",
    "plt.legend(loc='upper left', fontsize=16, frameon=True)\n",
    "plt.xlabel('$x$',fontsize=16)\n",
    "plt.xticks(fontsize=14)\n",
    "plt.yticks(fontsize=14)\n",
    "plt.title('$\\delta = {0:.1e}$'.format(delta_large), fontsize=16)\n",
    "plt.show()"
   ]
  },
  {
   "cell_type": "code",
   "execution_count": null,
   "metadata": {},
   "outputs": [],
   "source": [
    "# re-initialize and re-train the network with the smaller step size\n",
    "delta_small = 1e-4\n",
    "train_step = tf.train.GradientDescentOptimizer(delta_small).minimize(train_loss)\n",
    "sess.run(tf.global_variables_initializer())\n",
    "for i in range(20001):\n",
    "    train_step.run(feed_dict={x: np.expand_dims(x_dat,1), y_: y_dat})\n",
    "z3_dat = sess.run(y, feed_dict={x: np.expand_dims(x_dat,1)})\n",
    "train_step.run(feed_dict={x: np.expand_dims(x_dat,1), y_: y_dat})\n",
    "z4_dat = sess.run(y, feed_dict={x: np.expand_dims(x_dat,1)})"
   ]
  },
  {
   "cell_type": "code",
   "execution_count": null,
   "metadata": {},
   "outputs": [],
   "source": [
    "plt.rc('text', usetex=True)\n",
    "plt.figure(figsize=(6,5))\n",
    "plt.plot(x_dat, y_dat,color='seagreen', label='$f(x)$', linewidth=1.5)\n",
    "plt.plot(x_dat, z3_dat,'-.', color='maroon', label=r'$\\hat{f}_{\\mathrm{odd}}(x)$', linewidth=2.0)\n",
    "plt.plot(x_dat, z4_dat,'--', color='maroon', label=r'$\\hat{f}_{\\mathrm{even}}(x)$', linewidth=1.5)\n",
    "plt.legend(loc='upper left',fontsize=16)\n",
    "plt.xlabel('$x$',fontsize=16)\n",
    "plt.xticks(fontsize=14)\n",
    "plt.yticks(fontsize=14)\n",
    "plt.title('$\\delta = {0:.1e}$'.format(delta_small), fontsize=16)\n",
    "plt.show()"
   ]
  },
  {
   "cell_type": "code",
   "execution_count": null,
   "metadata": {},
   "outputs": [],
   "source": []
  }
 ],
 "metadata": {
  "anaconda-cloud": {},
  "kernelspec": {
   "display_name": "Python [conda root]",
   "language": "python",
   "name": "conda-root-py"
  },
  "language_info": {
   "codemirror_mode": {
    "name": "ipython",
    "version": 3
   },
   "file_extension": ".py",
   "mimetype": "text/x-python",
   "name": "python",
   "nbconvert_exporter": "python",
   "pygments_lexer": "ipython3",
   "version": "3.5.6"
  }
 },
 "nbformat": 4,
 "nbformat_minor": 1
}
